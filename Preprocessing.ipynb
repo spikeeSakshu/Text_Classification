{
 "cells": [
  {
   "cell_type": "code",
   "execution_count": 1,
   "metadata": {},
   "outputs": [],
   "source": [
    "import pandas as pd\n",
    "from glob import glob\n",
    "import sys\n",
    "import os"
   ]
  },
  {
   "cell_type": "code",
   "execution_count": 2,
   "metadata": {},
   "outputs": [],
   "source": [
    "labels, texts = [], []"
   ]
  },
  {
   "cell_type": "code",
   "execution_count": 3,
   "metadata": {},
   "outputs": [],
   "source": [
    "# Loading the dataset\n",
    "for classes in glob('Dataset/20_newsgroups/alt*'):\n",
    "    class_label= os.path.basename(classes)\n",
    "    for doc in glob(classes+'/*'):\n",
    "        f = open(doc,'r',errors='ignore')\n",
    "        message = ''.join(f.read())\n",
    "#         message = message.split()\n",
    "        \n",
    "        labels.append(class_label)\n",
    "        texts.append(message)\n",
    "#         sys.exit(0)"
   ]
  },
  {
   "cell_type": "code",
   "execution_count": 4,
   "metadata": {},
   "outputs": [
    {
     "data": {
      "text/plain": [
       "(1000, 1000)"
      ]
     },
     "execution_count": 4,
     "metadata": {},
     "output_type": "execute_result"
    }
   ],
   "source": [
    "len(labels), len(texts)"
   ]
  },
  {
   "cell_type": "code",
   "execution_count": 5,
   "metadata": {},
   "outputs": [
    {
     "data": {
      "text/plain": [
       "(array(['alt.atheism'], dtype='<U11'), array([1000]))"
      ]
     },
     "execution_count": 5,
     "metadata": {},
     "output_type": "execute_result"
    }
   ],
   "source": [
    "import numpy as np\n",
    "np.unique(labels, return_counts=True)"
   ]
  },
  {
   "cell_type": "code",
   "execution_count": 6,
   "metadata": {},
   "outputs": [],
   "source": [
    "# create a dataframe using texts and lables\n",
    "trainDF = pd.DataFrame()\n",
    "trainDF['text'] = texts\n",
    "trainDF['label'] = labels"
   ]
  },
  {
   "cell_type": "code",
   "execution_count": 7,
   "metadata": {},
   "outputs": [
    {
     "data": {
      "text/html": [
       "<div>\n",
       "<style scoped>\n",
       "    .dataframe tbody tr th:only-of-type {\n",
       "        vertical-align: middle;\n",
       "    }\n",
       "\n",
       "    .dataframe tbody tr th {\n",
       "        vertical-align: top;\n",
       "    }\n",
       "\n",
       "    .dataframe thead th {\n",
       "        text-align: right;\n",
       "    }\n",
       "</style>\n",
       "<table border=\"1\" class=\"dataframe\">\n",
       "  <thead>\n",
       "    <tr style=\"text-align: right;\">\n",
       "      <th></th>\n",
       "      <th>text</th>\n",
       "      <th>label</th>\n",
       "    </tr>\n",
       "  </thead>\n",
       "  <tbody>\n",
       "    <tr>\n",
       "      <th>0</th>\n",
       "      <td>Xref: cantaloupe.srv.cs.cmu.edu talk.abortion:...</td>\n",
       "      <td>alt.atheism</td>\n",
       "    </tr>\n",
       "    <tr>\n",
       "      <th>1</th>\n",
       "      <td>Path: cantaloupe.srv.cs.cmu.edu!magnesium.club...</td>\n",
       "      <td>alt.atheism</td>\n",
       "    </tr>\n",
       "    <tr>\n",
       "      <th>2</th>\n",
       "      <td>Xref: cantaloupe.srv.cs.cmu.edu talk.abortion:...</td>\n",
       "      <td>alt.atheism</td>\n",
       "    </tr>\n",
       "    <tr>\n",
       "      <th>3</th>\n",
       "      <td>Path: cantaloupe.srv.cs.cmu.edu!magnesium.club...</td>\n",
       "      <td>alt.atheism</td>\n",
       "    </tr>\n",
       "    <tr>\n",
       "      <th>4</th>\n",
       "      <td>Path: cantaloupe.srv.cs.cmu.edu!crabapple.srv....</td>\n",
       "      <td>alt.atheism</td>\n",
       "    </tr>\n",
       "    <tr>\n",
       "      <th>...</th>\n",
       "      <td>...</td>\n",
       "      <td>...</td>\n",
       "    </tr>\n",
       "    <tr>\n",
       "      <th>995</th>\n",
       "      <td>Newsgroups: alt.atheism\\nPath: cantaloupe.srv....</td>\n",
       "      <td>alt.atheism</td>\n",
       "    </tr>\n",
       "    <tr>\n",
       "      <th>996</th>\n",
       "      <td>Xref: cantaloupe.srv.cs.cmu.edu talk.abortion:...</td>\n",
       "      <td>alt.atheism</td>\n",
       "    </tr>\n",
       "    <tr>\n",
       "      <th>997</th>\n",
       "      <td>Newsgroups: alt.atheism\\nPath: cantaloupe.srv....</td>\n",
       "      <td>alt.atheism</td>\n",
       "    </tr>\n",
       "    <tr>\n",
       "      <th>998</th>\n",
       "      <td>From: Alan.Olsen@p17.f40.n105.z1.fidonet.org (...</td>\n",
       "      <td>alt.atheism</td>\n",
       "    </tr>\n",
       "    <tr>\n",
       "      <th>999</th>\n",
       "      <td>Xref: cantaloupe.srv.cs.cmu.edu talk.abortion:...</td>\n",
       "      <td>alt.atheism</td>\n",
       "    </tr>\n",
       "  </tbody>\n",
       "</table>\n",
       "<p>1000 rows × 2 columns</p>\n",
       "</div>"
      ],
      "text/plain": [
       "                                                  text        label\n",
       "0    Xref: cantaloupe.srv.cs.cmu.edu talk.abortion:...  alt.atheism\n",
       "1    Path: cantaloupe.srv.cs.cmu.edu!magnesium.club...  alt.atheism\n",
       "2    Xref: cantaloupe.srv.cs.cmu.edu talk.abortion:...  alt.atheism\n",
       "3    Path: cantaloupe.srv.cs.cmu.edu!magnesium.club...  alt.atheism\n",
       "4    Path: cantaloupe.srv.cs.cmu.edu!crabapple.srv....  alt.atheism\n",
       "..                                                 ...          ...\n",
       "995  Newsgroups: alt.atheism\\nPath: cantaloupe.srv....  alt.atheism\n",
       "996  Xref: cantaloupe.srv.cs.cmu.edu talk.abortion:...  alt.atheism\n",
       "997  Newsgroups: alt.atheism\\nPath: cantaloupe.srv....  alt.atheism\n",
       "998  From: Alan.Olsen@p17.f40.n105.z1.fidonet.org (...  alt.atheism\n",
       "999  Xref: cantaloupe.srv.cs.cmu.edu talk.abortion:...  alt.atheism\n",
       "\n",
       "[1000 rows x 2 columns]"
      ]
     },
     "execution_count": 7,
     "metadata": {},
     "output_type": "execute_result"
    }
   ],
   "source": [
    "trainDF"
   ]
  },
  {
   "cell_type": "code",
   "execution_count": 19,
   "metadata": {},
   "outputs": [
    {
     "name": "stderr",
     "output_type": "stream",
     "text": [
      "[nltk_data] Downloading package punkt to /home/sakshu/nltk_data...\n",
      "[nltk_data]   Unzipping tokenizers/punkt.zip.\n"
     ]
    },
    {
     "data": {
      "text/plain": [
       "True"
      ]
     },
     "execution_count": 19,
     "metadata": {},
     "output_type": "execute_result"
    }
   ],
   "source": [
    "import nltk\n",
    "# nltk.download('stopwords')\n",
    "nltk.download('punkt')"
   ]
  },
  {
   "cell_type": "code",
   "execution_count": 13,
   "metadata": {},
   "outputs": [],
   "source": [
    "from nltk.corpus import stopwords\n",
    "from nltk.tokenize import word_tokenize\n",
    "\n",
    "stop_words = set(stopwords.words('english'))"
   ]
  },
  {
   "cell_type": "code",
   "execution_count": 17,
   "metadata": {},
   "outputs": [
    {
     "data": {
      "text/plain": [
       "\"Xref: cantaloupe.srv.cs.cmu.edu talk.abortion:121513 alt.atheism:54130 talk.religion.misc:84333\\nPath: cantaloupe.srv.cs.cmu.edu!das-news.harvard.edu!noc.near.net!howland.reston.ans.net!zaphod.mps.ohio-state.edu!cs.utexas.edu!uunet!pipex!ibmpcug!mantis!news\\nFrom: mathew <mathew@mantis.co.uk>\\nNewsgroups: talk.abortion,alt.atheism,talk.religion.misc\\nSubject: Re: After 2000 years, can we say that Christian Morality is\\nMessage-ID: <930426.132939.4n4.rusnews.w165w@mantis.co.uk>\\nDate: Mon, 26 Apr 1993 13:29:39 +0100\\nReferences: <1993Apr18.210407.10208@rotag.mi.org> <pww-180493195323@spac-at1-59.rice.edu> <1993Apr20.052420.15559@rotag.mi.org>\\nOrganization: Mantis Consultants, Cambridge. UK.\\nX-Newsreader: rusnews v1.02\\nLines: 11\\n\\nkevin@rotag.mi.org (Kevin Darcy) writes:\\n>In article <pww-180493195323@spac-at1-59.rice.edu> pww@spacsun.rice.edu \\n>(Peter Walker) writes:\\n>>And others of us see it as intellectual masturbation.\\n> \\n> I'll defer to your greater firsthand knowledge in such matters.\\n\\nKevin, of course, is intellectually a voluntarily chaste virgin.\\n\\n\\nmathew\\n\""
      ]
     },
     "execution_count": 17,
     "metadata": {},
     "output_type": "execute_result"
    }
   ],
   "source": [
    "trainDF.iloc[0].text"
   ]
  },
  {
   "cell_type": "code",
   "execution_count": 20,
   "metadata": {},
   "outputs": [],
   "source": [
    "word_tokens= word_tokenize(trainDF.iloc[0].text)"
   ]
  },
  {
   "cell_type": "code",
   "execution_count": 22,
   "metadata": {},
   "outputs": [
    {
     "data": {
      "text/plain": [
       "['Xref',\n",
       " ':',\n",
       " 'cantaloupe.srv.cs.cmu.edu',\n",
       " 'talk.abortion:121513',\n",
       " 'alt.atheism:54130',\n",
       " 'talk.religion.misc:84333',\n",
       " 'Path',\n",
       " ':',\n",
       " 'cantaloupe.srv.cs.cmu.edu',\n",
       " '!',\n",
       " 'das-news.harvard.edu',\n",
       " '!',\n",
       " 'noc.near.net',\n",
       " '!',\n",
       " 'howland.reston.ans.net',\n",
       " '!',\n",
       " 'zaphod.mps.ohio-state.edu',\n",
       " '!',\n",
       " 'cs.utexas.edu',\n",
       " '!',\n",
       " 'uunet',\n",
       " '!',\n",
       " 'pipex',\n",
       " '!',\n",
       " 'ibmpcug',\n",
       " '!',\n",
       " 'mantis',\n",
       " '!',\n",
       " 'news',\n",
       " 'From',\n",
       " ':',\n",
       " 'mathew',\n",
       " '<',\n",
       " 'mathew',\n",
       " '@',\n",
       " 'mantis.co.uk',\n",
       " '>',\n",
       " 'Newsgroups',\n",
       " ':',\n",
       " 'talk.abortion',\n",
       " ',',\n",
       " 'alt.atheism',\n",
       " ',',\n",
       " 'talk.religion.misc',\n",
       " 'Subject',\n",
       " ':',\n",
       " 'Re',\n",
       " ':',\n",
       " 'After',\n",
       " '2000',\n",
       " 'years',\n",
       " ',',\n",
       " 'say',\n",
       " 'Christian',\n",
       " 'Morality',\n",
       " 'Message-ID',\n",
       " ':',\n",
       " '<',\n",
       " '930426.132939.4n4.rusnews.w165w',\n",
       " '@',\n",
       " 'mantis.co.uk',\n",
       " '>',\n",
       " 'Date',\n",
       " ':',\n",
       " 'Mon',\n",
       " ',',\n",
       " '26',\n",
       " 'Apr',\n",
       " '1993',\n",
       " '13:29:39',\n",
       " '+0100',\n",
       " 'References',\n",
       " ':',\n",
       " '<',\n",
       " '1993Apr18.210407.10208',\n",
       " '@',\n",
       " 'rotag.mi.org',\n",
       " '>',\n",
       " '<',\n",
       " 'pww-180493195323',\n",
       " '@',\n",
       " 'spac-at1-59.rice.edu',\n",
       " '>',\n",
       " '<',\n",
       " '1993Apr20.052420.15559',\n",
       " '@',\n",
       " 'rotag.mi.org',\n",
       " '>',\n",
       " 'Organization',\n",
       " ':',\n",
       " 'Mantis',\n",
       " 'Consultants',\n",
       " ',',\n",
       " 'Cambridge',\n",
       " '.',\n",
       " 'UK',\n",
       " '.',\n",
       " 'X-Newsreader',\n",
       " ':',\n",
       " 'rusnews',\n",
       " 'v1.02',\n",
       " 'Lines',\n",
       " ':',\n",
       " '11',\n",
       " 'kevin',\n",
       " '@',\n",
       " 'rotag.mi.org',\n",
       " '(',\n",
       " 'Kevin',\n",
       " 'Darcy',\n",
       " ')',\n",
       " 'writes',\n",
       " ':',\n",
       " '>',\n",
       " 'In',\n",
       " 'article',\n",
       " '<',\n",
       " 'pww-180493195323',\n",
       " '@',\n",
       " 'spac-at1-59.rice.edu',\n",
       " '>',\n",
       " 'pww',\n",
       " '@',\n",
       " 'spacsun.rice.edu',\n",
       " '>',\n",
       " '(',\n",
       " 'Peter',\n",
       " 'Walker',\n",
       " ')',\n",
       " 'writes',\n",
       " ':',\n",
       " '>',\n",
       " '>',\n",
       " 'And',\n",
       " 'others',\n",
       " 'us',\n",
       " 'see',\n",
       " 'intellectual',\n",
       " 'masturbation',\n",
       " '.',\n",
       " '>',\n",
       " '>',\n",
       " 'I',\n",
       " \"'ll\",\n",
       " 'defer',\n",
       " 'greater',\n",
       " 'firsthand',\n",
       " 'knowledge',\n",
       " 'matters',\n",
       " '.',\n",
       " 'Kevin',\n",
       " ',',\n",
       " 'course',\n",
       " ',',\n",
       " 'intellectually',\n",
       " 'voluntarily',\n",
       " 'chaste',\n",
       " 'virgin',\n",
       " '.',\n",
       " 'mathew']"
      ]
     },
     "execution_count": 22,
     "metadata": {},
     "output_type": "execute_result"
    }
   ],
   "source": [
    "filtered_sentence = [w for w in word_tokens if not w in stop_words]\n",
    "filtered_sentence"
   ]
  },
  {
   "cell_type": "code",
   "execution_count": null,
   "metadata": {},
   "outputs": [],
   "source": []
  }
 ],
 "metadata": {
  "kernelspec": {
   "display_name": "Python 3",
   "language": "python",
   "name": "python3"
  },
  "language_info": {
   "codemirror_mode": {
    "name": "ipython",
    "version": 3
   },
   "file_extension": ".py",
   "mimetype": "text/x-python",
   "name": "python",
   "nbconvert_exporter": "python",
   "pygments_lexer": "ipython3",
   "version": "3.8.5"
  }
 },
 "nbformat": 4,
 "nbformat_minor": 4
}
