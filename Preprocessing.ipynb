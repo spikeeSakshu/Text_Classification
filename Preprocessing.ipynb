{
 "cells": [
  {
   "cell_type": "code",
   "execution_count": 31,
   "metadata": {},
   "outputs": [
    {
     "name": "stderr",
     "output_type": "stream",
     "text": [
      "[nltk_data] Downloading package wordnet to /home/sakshu/nltk_data...\n",
      "[nltk_data]   Unzipping corpora/wordnet.zip.\n"
     ]
    },
    {
     "data": {
      "text/plain": [
       "True"
      ]
     },
     "execution_count": 31,
     "metadata": {},
     "output_type": "execute_result"
    }
   ],
   "source": [
    "import nltk\n",
    "# nltk.download('stopwords')\n",
    "# nltk.download('punkt')\n",
    "nltk.download('wordnet')"
   ]
  },
  {
   "cell_type": "code",
   "execution_count": 27,
   "metadata": {},
   "outputs": [],
   "source": [
    "import pandas as pd\n",
    "from glob import glob\n",
    "import sys\n",
    "import os\n",
    "\n",
    "from nltk.corpus import stopwords\n",
    "from nltk.tokenize import word_tokenize\n",
    "from nltk.stem import WordNetLemmatizer "
   ]
  },
  {
   "cell_type": "code",
   "execution_count": 28,
   "metadata": {},
   "outputs": [],
   "source": [
    "stop_words = set(stopwords.words('english'))\n",
    "symbols = ['.',',',':','?','!','<','>','(',')','#','--','-','$','@','%','``',';',\"''\"]\n",
    "\n",
    "lemmatizer = WordNetLemmatizer() "
   ]
  },
  {
   "cell_type": "code",
   "execution_count": 37,
   "metadata": {},
   "outputs": [],
   "source": [
    "def preprocessing(document):\n",
    "    \n",
    "    word_tokens= word_tokenize(document)\n",
    "    \n",
    "    filtered_document = [lemmatizer.lemmatize(w.lower()) for w in word_tokens if ((w.isalpha() and len(w)>2) and (not w in stop_words) and (not w in symbols))]\n",
    "    \n",
    "    return filtered_document"
   ]
  },
  {
   "cell_type": "code",
   "execution_count": 44,
   "metadata": {},
   "outputs": [],
   "source": [
    "labels, texts = [], []"
   ]
  },
  {
   "cell_type": "code",
   "execution_count": null,
   "metadata": {},
   "outputs": [],
   "source": []
  },
  {
   "cell_type": "code",
   "execution_count": 45,
   "metadata": {},
   "outputs": [
    {
     "ename": "SystemExit",
     "evalue": "0",
     "output_type": "error",
     "traceback": [
      "An exception has occurred, use %tb to see the full traceback.\n",
      "\u001b[0;31mSystemExit\u001b[0m\u001b[0;31m:\u001b[0m 0\n"
     ]
    },
    {
     "name": "stderr",
     "output_type": "stream",
     "text": [
      "/usr/lib/python3/dist-packages/IPython/core/interactiveshell.py:3339: UserWarning: To exit: use 'exit', 'quit', or Ctrl-D.\n",
      "  warn(\"To exit: use 'exit', 'quit', or Ctrl-D.\", stacklevel=1)\n"
     ]
    }
   ],
   "source": [
    "# Loading the dataset\n",
    "for classes in glob('Dataset/20_newsgroups/alt*'):\n",
    "    class_label= os.path.basename(classes)\n",
    "    for doc in glob(classes+'/*'):\n",
    "        f = open(doc,'r',errors='ignore')\n",
    "        document = ''.join(f.read())\n",
    "        cleaned_doc= preprocessing(document)\n",
    "        labels.append(class_label)\n",
    "        texts.append(cleaned_doc)\n",
    "        sys.exit(0)"
   ]
  },
  {
   "cell_type": "code",
   "execution_count": 46,
   "metadata": {},
   "outputs": [
    {
     "data": {
      "text/plain": [
       "(1, 1)"
      ]
     },
     "execution_count": 46,
     "metadata": {},
     "output_type": "execute_result"
    }
   ],
   "source": [
    "len(labels), len(texts)"
   ]
  },
  {
   "cell_type": "code",
   "execution_count": 47,
   "metadata": {},
   "outputs": [
    {
     "data": {
      "text/plain": [
       "(array(['alt.atheism'], dtype='<U11'), array([1]))"
      ]
     },
     "execution_count": 47,
     "metadata": {},
     "output_type": "execute_result"
    }
   ],
   "source": [
    "import numpy as np\n",
    "np.unique(labels, return_counts=True)"
   ]
  },
  {
   "cell_type": "code",
   "execution_count": 48,
   "metadata": {},
   "outputs": [],
   "source": [
    "# create a dataframe using texts and lables\n",
    "trainDF = pd.DataFrame()\n",
    "trainDF['text'] = texts\n",
    "trainDF['label'] = labels"
   ]
  },
  {
   "cell_type": "code",
   "execution_count": 49,
   "metadata": {},
   "outputs": [
    {
     "data": {
      "text/html": [
       "<div>\n",
       "<style scoped>\n",
       "    .dataframe tbody tr th:only-of-type {\n",
       "        vertical-align: middle;\n",
       "    }\n",
       "\n",
       "    .dataframe tbody tr th {\n",
       "        vertical-align: top;\n",
       "    }\n",
       "\n",
       "    .dataframe thead th {\n",
       "        text-align: right;\n",
       "    }\n",
       "</style>\n",
       "<table border=\"1\" class=\"dataframe\">\n",
       "  <thead>\n",
       "    <tr style=\"text-align: right;\">\n",
       "      <th></th>\n",
       "      <th>text</th>\n",
       "      <th>label</th>\n",
       "    </tr>\n",
       "  </thead>\n",
       "  <tbody>\n",
       "    <tr>\n",
       "      <th>0</th>\n",
       "      <td>[xref, path, uunet, pipex, ibmpcug, mantis, ne...</td>\n",
       "      <td>alt.atheism</td>\n",
       "    </tr>\n",
       "  </tbody>\n",
       "</table>\n",
       "</div>"
      ],
      "text/plain": [
       "                                                text        label\n",
       "0  [xref, path, uunet, pipex, ibmpcug, mantis, ne...  alt.atheism"
      ]
     },
     "execution_count": 49,
     "metadata": {},
     "output_type": "execute_result"
    }
   ],
   "source": [
    "trainDF"
   ]
  },
  {
   "cell_type": "code",
   "execution_count": 20,
   "metadata": {},
   "outputs": [],
   "source": []
  },
  {
   "cell_type": "code",
   "execution_count": 22,
   "metadata": {},
   "outputs": [
    {
     "data": {
      "text/plain": [
       "['Xref',\n",
       " ':',\n",
       " 'cantaloupe.srv.cs.cmu.edu',\n",
       " 'talk.abortion:121513',\n",
       " 'alt.atheism:54130',\n",
       " 'talk.religion.misc:84333',\n",
       " 'Path',\n",
       " ':',\n",
       " 'cantaloupe.srv.cs.cmu.edu',\n",
       " '!',\n",
       " 'das-news.harvard.edu',\n",
       " '!',\n",
       " 'noc.near.net',\n",
       " '!',\n",
       " 'howland.reston.ans.net',\n",
       " '!',\n",
       " 'zaphod.mps.ohio-state.edu',\n",
       " '!',\n",
       " 'cs.utexas.edu',\n",
       " '!',\n",
       " 'uunet',\n",
       " '!',\n",
       " 'pipex',\n",
       " '!',\n",
       " 'ibmpcug',\n",
       " '!',\n",
       " 'mantis',\n",
       " '!',\n",
       " 'news',\n",
       " 'From',\n",
       " ':',\n",
       " 'mathew',\n",
       " '<',\n",
       " 'mathew',\n",
       " '@',\n",
       " 'mantis.co.uk',\n",
       " '>',\n",
       " 'Newsgroups',\n",
       " ':',\n",
       " 'talk.abortion',\n",
       " ',',\n",
       " 'alt.atheism',\n",
       " ',',\n",
       " 'talk.religion.misc',\n",
       " 'Subject',\n",
       " ':',\n",
       " 'Re',\n",
       " ':',\n",
       " 'After',\n",
       " '2000',\n",
       " 'years',\n",
       " ',',\n",
       " 'say',\n",
       " 'Christian',\n",
       " 'Morality',\n",
       " 'Message-ID',\n",
       " ':',\n",
       " '<',\n",
       " '930426.132939.4n4.rusnews.w165w',\n",
       " '@',\n",
       " 'mantis.co.uk',\n",
       " '>',\n",
       " 'Date',\n",
       " ':',\n",
       " 'Mon',\n",
       " ',',\n",
       " '26',\n",
       " 'Apr',\n",
       " '1993',\n",
       " '13:29:39',\n",
       " '+0100',\n",
       " 'References',\n",
       " ':',\n",
       " '<',\n",
       " '1993Apr18.210407.10208',\n",
       " '@',\n",
       " 'rotag.mi.org',\n",
       " '>',\n",
       " '<',\n",
       " 'pww-180493195323',\n",
       " '@',\n",
       " 'spac-at1-59.rice.edu',\n",
       " '>',\n",
       " '<',\n",
       " '1993Apr20.052420.15559',\n",
       " '@',\n",
       " 'rotag.mi.org',\n",
       " '>',\n",
       " 'Organization',\n",
       " ':',\n",
       " 'Mantis',\n",
       " 'Consultants',\n",
       " ',',\n",
       " 'Cambridge',\n",
       " '.',\n",
       " 'UK',\n",
       " '.',\n",
       " 'X-Newsreader',\n",
       " ':',\n",
       " 'rusnews',\n",
       " 'v1.02',\n",
       " 'Lines',\n",
       " ':',\n",
       " '11',\n",
       " 'kevin',\n",
       " '@',\n",
       " 'rotag.mi.org',\n",
       " '(',\n",
       " 'Kevin',\n",
       " 'Darcy',\n",
       " ')',\n",
       " 'writes',\n",
       " ':',\n",
       " '>',\n",
       " 'In',\n",
       " 'article',\n",
       " '<',\n",
       " 'pww-180493195323',\n",
       " '@',\n",
       " 'spac-at1-59.rice.edu',\n",
       " '>',\n",
       " 'pww',\n",
       " '@',\n",
       " 'spacsun.rice.edu',\n",
       " '>',\n",
       " '(',\n",
       " 'Peter',\n",
       " 'Walker',\n",
       " ')',\n",
       " 'writes',\n",
       " ':',\n",
       " '>',\n",
       " '>',\n",
       " 'And',\n",
       " 'others',\n",
       " 'us',\n",
       " 'see',\n",
       " 'intellectual',\n",
       " 'masturbation',\n",
       " '.',\n",
       " '>',\n",
       " '>',\n",
       " 'I',\n",
       " \"'ll\",\n",
       " 'defer',\n",
       " 'greater',\n",
       " 'firsthand',\n",
       " 'knowledge',\n",
       " 'matters',\n",
       " '.',\n",
       " 'Kevin',\n",
       " ',',\n",
       " 'course',\n",
       " ',',\n",
       " 'intellectually',\n",
       " 'voluntarily',\n",
       " 'chaste',\n",
       " 'virgin',\n",
       " '.',\n",
       " 'mathew']"
      ]
     },
     "execution_count": 22,
     "metadata": {},
     "output_type": "execute_result"
    }
   ],
   "source": [
    "\n",
    "filtered_sentence"
   ]
  },
  {
   "cell_type": "code",
   "execution_count": 26,
   "metadata": {
    "scrolled": true
   },
   "outputs": [
    {
     "data": {
      "text/plain": [
       "['Xref',\n",
       " 'cantaloupe.srv.cs.cmu.edu',\n",
       " 'talk.abortion:121513',\n",
       " 'alt.atheism:54130',\n",
       " 'talk.religion.misc:84333',\n",
       " 'Path',\n",
       " 'cantaloupe.srv.cs.cmu.edu',\n",
       " 'das-news.harvard.edu',\n",
       " 'noc.near.net',\n",
       " 'howland.reston.ans.net',\n",
       " 'zaphod.mps.ohio-state.edu',\n",
       " 'cs.utexas.edu',\n",
       " 'uunet',\n",
       " 'pipex',\n",
       " 'ibmpcug',\n",
       " 'mantis',\n",
       " 'news',\n",
       " 'From',\n",
       " 'mathew',\n",
       " 'mathew',\n",
       " 'mantis.co.uk',\n",
       " 'Newsgroups',\n",
       " 'talk.abortion',\n",
       " 'alt.atheism',\n",
       " 'talk.religion.misc',\n",
       " 'Subject',\n",
       " 'Re',\n",
       " 'After',\n",
       " '2000',\n",
       " 'years',\n",
       " 'say',\n",
       " 'Christian',\n",
       " 'Morality',\n",
       " 'Message-ID',\n",
       " '930426.132939.4n4.rusnews.w165w',\n",
       " 'mantis.co.uk',\n",
       " 'Date',\n",
       " 'Mon',\n",
       " '26',\n",
       " 'Apr',\n",
       " '1993',\n",
       " '13:29:39',\n",
       " '+0100',\n",
       " 'References',\n",
       " '1993Apr18.210407.10208',\n",
       " 'rotag.mi.org',\n",
       " 'pww-180493195323',\n",
       " 'spac-at1-59.rice.edu',\n",
       " '1993Apr20.052420.15559',\n",
       " 'rotag.mi.org',\n",
       " 'Organization',\n",
       " 'Mantis',\n",
       " 'Consultants',\n",
       " 'Cambridge',\n",
       " 'UK',\n",
       " 'X-Newsreader',\n",
       " 'rusnews',\n",
       " 'v1.02',\n",
       " 'Lines',\n",
       " '11',\n",
       " 'kevin',\n",
       " 'rotag.mi.org',\n",
       " 'Kevin',\n",
       " 'Darcy',\n",
       " 'writes',\n",
       " 'In',\n",
       " 'article',\n",
       " 'pww-180493195323',\n",
       " 'spac-at1-59.rice.edu',\n",
       " 'pww',\n",
       " 'spacsun.rice.edu',\n",
       " 'Peter',\n",
       " 'Walker',\n",
       " 'writes',\n",
       " 'And',\n",
       " 'others',\n",
       " 'us',\n",
       " 'see',\n",
       " 'intellectual',\n",
       " 'masturbation',\n",
       " 'I',\n",
       " \"'ll\",\n",
       " 'defer',\n",
       " 'greater',\n",
       " 'firsthand',\n",
       " 'knowledge',\n",
       " 'matters',\n",
       " 'Kevin',\n",
       " 'course',\n",
       " 'intellectually',\n",
       " 'voluntarily',\n",
       " 'chaste',\n",
       " 'virgin',\n",
       " 'mathew']"
      ]
     },
     "execution_count": 26,
     "metadata": {},
     "output_type": "execute_result"
    }
   ],
   "source": [
    "filtered_document = [w for w in word_tokens if (not w in stop_words) and (not w in symbols)]\n",
    "\n",
    "filtered_document"
   ]
  },
  {
   "cell_type": "code",
   "execution_count": 32,
   "metadata": {},
   "outputs": [],
   "source": [
    "filtered_document = [lemmatizer.lemmatize(w) for w in word_tokens if ((w.isalpha() and len(w)>2) and (not w in stop_words) and (not w in symbols))]"
   ]
  },
  {
   "cell_type": "code",
   "execution_count": 33,
   "metadata": {},
   "outputs": [
    {
     "data": {
      "text/plain": [
       "['Xref',\n",
       " 'Path',\n",
       " 'uunet',\n",
       " 'pipex',\n",
       " 'ibmpcug',\n",
       " 'mantis',\n",
       " 'news',\n",
       " 'From',\n",
       " 'mathew',\n",
       " 'mathew',\n",
       " 'Newsgroups',\n",
       " 'Subject',\n",
       " 'After',\n",
       " 'year',\n",
       " 'say',\n",
       " 'Christian',\n",
       " 'Morality',\n",
       " 'Date',\n",
       " 'Mon',\n",
       " 'Apr',\n",
       " 'References',\n",
       " 'Organization',\n",
       " 'Mantis',\n",
       " 'Consultants',\n",
       " 'Cambridge',\n",
       " 'rusnews',\n",
       " 'Lines',\n",
       " 'kevin',\n",
       " 'Kevin',\n",
       " 'Darcy',\n",
       " 'writes',\n",
       " 'article',\n",
       " 'pww',\n",
       " 'Peter',\n",
       " 'Walker',\n",
       " 'writes',\n",
       " 'And',\n",
       " 'others',\n",
       " 'see',\n",
       " 'intellectual',\n",
       " 'masturbation',\n",
       " 'defer',\n",
       " 'greater',\n",
       " 'firsthand',\n",
       " 'knowledge',\n",
       " 'matter',\n",
       " 'Kevin',\n",
       " 'course',\n",
       " 'intellectually',\n",
       " 'voluntarily',\n",
       " 'chaste',\n",
       " 'virgin',\n",
       " 'mathew']"
      ]
     },
     "execution_count": 33,
     "metadata": {},
     "output_type": "execute_result"
    }
   ],
   "source": [
    "filtered_document"
   ]
  },
  {
   "cell_type": "code",
   "execution_count": null,
   "metadata": {},
   "outputs": [],
   "source": []
  }
 ],
 "metadata": {
  "kernelspec": {
   "display_name": "Python 3",
   "language": "python",
   "name": "python3"
  },
  "language_info": {
   "codemirror_mode": {
    "name": "ipython",
    "version": 3
   },
   "file_extension": ".py",
   "mimetype": "text/x-python",
   "name": "python",
   "nbconvert_exporter": "python",
   "pygments_lexer": "ipython3",
   "version": "3.8.5"
  }
 },
 "nbformat": 4,
 "nbformat_minor": 4
}
