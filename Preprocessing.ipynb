{
 "cells": [
  {
   "cell_type": "code",
   "execution_count": 1,
   "metadata": {},
   "outputs": [
    {
     "name": "stderr",
     "output_type": "stream",
     "text": [
      "[nltk_data] Downloading package wordnet to /home/sakshu/nltk_data...\n",
      "[nltk_data]   Package wordnet is already up-to-date!\n"
     ]
    },
    {
     "data": {
      "text/plain": [
       "True"
      ]
     },
     "execution_count": 1,
     "metadata": {},
     "output_type": "execute_result"
    }
   ],
   "source": [
    "# import nltk\n",
    "# nltk.download('stopwords')\n",
    "# nltk.download('punkt')\n",
    "# nltk.download('wordnet')"
   ]
  },
  {
   "cell_type": "code",
   "execution_count": 2,
   "metadata": {},
   "outputs": [],
   "source": [
    "import pandas as pd\n",
    "from glob import glob\n",
    "import sys\n",
    "import os\n",
    "\n",
    "from nltk.corpus import stopwords\n",
    "from nltk.tokenize import word_tokenize\n",
    "from nltk.stem import WordNetLemmatizer "
   ]
  },
  {
   "cell_type": "code",
   "execution_count": 3,
   "metadata": {},
   "outputs": [],
   "source": [
    "stop_words = set(stopwords.words('english'))\n",
    "symbols = ['.',',',':','?','!','<','>','(',')','#','--','-','$','@','%','``',';',\"''\"]\n",
    "\n",
    "lemmatizer = WordNetLemmatizer() "
   ]
  },
  {
   "cell_type": "code",
   "execution_count": 4,
   "metadata": {},
   "outputs": [],
   "source": [
    "def preprocessing(document):\n",
    "    \n",
    "    word_tokens= word_tokenize(document)\n",
    "    \n",
    "    filtered_document = [lemmatizer.lemmatize(w.lower()) for w in word_tokens if ((w.isalpha() and len(w)>2) and (not w in stop_words) and (not w in symbols))]\n",
    "    \n",
    "    return filtered_document"
   ]
  },
  {
   "cell_type": "code",
   "execution_count": 7,
   "metadata": {},
   "outputs": [],
   "source": [
    "labels, texts = [], []"
   ]
  },
  {
   "cell_type": "code",
   "execution_count": 8,
   "metadata": {},
   "outputs": [],
   "source": [
    "# Loading the dataset\n",
    "for classes in glob('Dataset/20_newsgroups/*'):\n",
    "    class_label= os.path.basename(classes)\n",
    "    for doc in glob(classes+'/*'):\n",
    "        f = open(doc,'r',errors='ignore')\n",
    "        document = ''.join(f.read())\n",
    "        cleaned_doc= preprocessing(document)\n",
    "        labels.append(class_label)\n",
    "        texts.append(cleaned_doc)\n",
    "#         sys.exit(0)"
   ]
  },
  {
   "cell_type": "code",
   "execution_count": 9,
   "metadata": {},
   "outputs": [
    {
     "data": {
      "text/plain": [
       "(19997, 19997)"
      ]
     },
     "execution_count": 9,
     "metadata": {},
     "output_type": "execute_result"
    }
   ],
   "source": [
    "len(labels), len(texts)"
   ]
  },
  {
   "cell_type": "code",
   "execution_count": 10,
   "metadata": {},
   "outputs": [
    {
     "data": {
      "text/plain": [
       "(array(['alt.atheism', 'comp.graphics', 'comp.os.ms-windows.misc',\n",
       "        'comp.sys.ibm.pc.hardware', 'comp.sys.mac.hardware',\n",
       "        'comp.windows.x', 'misc.forsale', 'rec.autos', 'rec.motorcycles',\n",
       "        'rec.sport.baseball', 'rec.sport.hockey', 'sci.crypt',\n",
       "        'sci.electronics', 'sci.med', 'sci.space',\n",
       "        'soc.religion.christian', 'talk.politics.guns',\n",
       "        'talk.politics.mideast', 'talk.politics.misc',\n",
       "        'talk.religion.misc'], dtype='<U24'),\n",
       " array([1000, 1000, 1000, 1000, 1000, 1000, 1000, 1000, 1000, 1000, 1000,\n",
       "        1000, 1000, 1000, 1000,  997, 1000, 1000, 1000, 1000]))"
      ]
     },
     "execution_count": 10,
     "metadata": {},
     "output_type": "execute_result"
    }
   ],
   "source": [
    "import numpy as np\n",
    "np.unique(labels, return_counts=True)"
   ]
  },
  {
   "cell_type": "code",
   "execution_count": 11,
   "metadata": {},
   "outputs": [],
   "source": [
    "# create a dataframe using texts and lables\n",
    "trainDF = pd.DataFrame()\n",
    "trainDF['text'] = texts\n",
    "trainDF['label'] = labels"
   ]
  },
  {
   "cell_type": "code",
   "execution_count": 12,
   "metadata": {},
   "outputs": [
    {
     "data": {
      "text/html": [
       "<div>\n",
       "<style scoped>\n",
       "    .dataframe tbody tr th:only-of-type {\n",
       "        vertical-align: middle;\n",
       "    }\n",
       "\n",
       "    .dataframe tbody tr th {\n",
       "        vertical-align: top;\n",
       "    }\n",
       "\n",
       "    .dataframe thead th {\n",
       "        text-align: right;\n",
       "    }\n",
       "</style>\n",
       "<table border=\"1\" class=\"dataframe\">\n",
       "  <thead>\n",
       "    <tr style=\"text-align: right;\">\n",
       "      <th></th>\n",
       "      <th>text</th>\n",
       "      <th>label</th>\n",
       "    </tr>\n",
       "  </thead>\n",
       "  <tbody>\n",
       "    <tr>\n",
       "      <th>0</th>\n",
       "      <td>[newsgroups, path, linac, wupost, mlipsie, fro...</td>\n",
       "      <td>comp.sys.ibm.pc.hardware</td>\n",
       "    </tr>\n",
       "    <tr>\n",
       "      <th>1</th>\n",
       "      <td>[newsgroups, path, uunet, pipex, uknet, mcsun,...</td>\n",
       "      <td>comp.sys.ibm.pc.hardware</td>\n",
       "    </tr>\n",
       "    <tr>\n",
       "      <th>2</th>\n",
       "      <td>[xref, path, kilroy, hartzman, from, hartzman,...</td>\n",
       "      <td>comp.sys.ibm.pc.hardware</td>\n",
       "    </tr>\n",
       "    <tr>\n",
       "      <th>3</th>\n",
       "      <td>[newsgroups, path, uunet, utcsri, utnut, pdavi...</td>\n",
       "      <td>comp.sys.ibm.pc.hardware</td>\n",
       "    </tr>\n",
       "    <tr>\n",
       "      <th>4</th>\n",
       "      <td>[xref, newsgroups, path, from, steve, rimar, s...</td>\n",
       "      <td>comp.sys.ibm.pc.hardware</td>\n",
       "    </tr>\n",
       "    <tr>\n",
       "      <th>...</th>\n",
       "      <td>...</td>\n",
       "      <td>...</td>\n",
       "    </tr>\n",
       "    <tr>\n",
       "      <th>19992</th>\n",
       "      <td>[path, from, matthew, keating, newsgroups, sub...</td>\n",
       "      <td>rec.sport.hockey</td>\n",
       "    </tr>\n",
       "    <tr>\n",
       "      <th>19993</th>\n",
       "      <td>[path, from, joseph, mcdonald, newsgroups, sub...</td>\n",
       "      <td>rec.sport.hockey</td>\n",
       "    </tr>\n",
       "    <tr>\n",
       "      <th>19994</th>\n",
       "      <td>[newsgroups, path, utnut, torn, maynard, from,...</td>\n",
       "      <td>rec.sport.hockey</td>\n",
       "    </tr>\n",
       "    <tr>\n",
       "      <th>19995</th>\n",
       "      <td>[path, usc, hacgate, oracle, willis, from, wil...</td>\n",
       "      <td>rec.sport.hockey</td>\n",
       "    </tr>\n",
       "    <tr>\n",
       "      <th>19996</th>\n",
       "      <td>[path, agate, msanfrat, from, msanfrat, mike, ...</td>\n",
       "      <td>rec.sport.hockey</td>\n",
       "    </tr>\n",
       "  </tbody>\n",
       "</table>\n",
       "<p>19997 rows × 2 columns</p>\n",
       "</div>"
      ],
      "text/plain": [
       "                                                    text  \\\n",
       "0      [newsgroups, path, linac, wupost, mlipsie, fro...   \n",
       "1      [newsgroups, path, uunet, pipex, uknet, mcsun,...   \n",
       "2      [xref, path, kilroy, hartzman, from, hartzman,...   \n",
       "3      [newsgroups, path, uunet, utcsri, utnut, pdavi...   \n",
       "4      [xref, newsgroups, path, from, steve, rimar, s...   \n",
       "...                                                  ...   \n",
       "19992  [path, from, matthew, keating, newsgroups, sub...   \n",
       "19993  [path, from, joseph, mcdonald, newsgroups, sub...   \n",
       "19994  [newsgroups, path, utnut, torn, maynard, from,...   \n",
       "19995  [path, usc, hacgate, oracle, willis, from, wil...   \n",
       "19996  [path, agate, msanfrat, from, msanfrat, mike, ...   \n",
       "\n",
       "                          label  \n",
       "0      comp.sys.ibm.pc.hardware  \n",
       "1      comp.sys.ibm.pc.hardware  \n",
       "2      comp.sys.ibm.pc.hardware  \n",
       "3      comp.sys.ibm.pc.hardware  \n",
       "4      comp.sys.ibm.pc.hardware  \n",
       "...                         ...  \n",
       "19992          rec.sport.hockey  \n",
       "19993          rec.sport.hockey  \n",
       "19994          rec.sport.hockey  \n",
       "19995          rec.sport.hockey  \n",
       "19996          rec.sport.hockey  \n",
       "\n",
       "[19997 rows x 2 columns]"
      ]
     },
     "execution_count": 12,
     "metadata": {},
     "output_type": "execute_result"
    }
   ],
   "source": [
    "trainDF"
   ]
  },
  {
   "cell_type": "code",
   "execution_count": 13,
   "metadata": {
    "scrolled": false
   },
   "outputs": [
    {
     "data": {
      "text/plain": [
       "['newsgroups',\n",
       " 'path',\n",
       " 'utnut',\n",
       " 'torn',\n",
       " 'maynard',\n",
       " 'from',\n",
       " 'maynard',\n",
       " 'roger',\n",
       " 'maynard',\n",
       " 'subject',\n",
       " 'nhl',\n",
       " 'letter',\n",
       " 'roger',\n",
       " 'response',\n",
       " 'organization',\n",
       " 'dept',\n",
       " 'computer',\n",
       " 'science',\n",
       " 'laurentian',\n",
       " 'university',\n",
       " 'sudbury',\n",
       " 'reference',\n",
       " 'date',\n",
       " 'mon',\n",
       " 'apr',\n",
       " 'gmt',\n",
       " 'line',\n",
       " 'phoenix',\n",
       " 'ali',\n",
       " 'lemer',\n",
       " 'writes',\n",
       " 'gee',\n",
       " 'coincidence',\n",
       " 'share',\n",
       " 'view',\n",
       " 'perhaps',\n",
       " 'name',\n",
       " 'list',\n",
       " 'accompany',\n",
       " 'letter',\n",
       " 'maybe',\n",
       " 'write',\n",
       " 'disclaimer',\n",
       " 'end',\n",
       " 'bettman',\n",
       " 'nota',\n",
       " 'bene',\n",
       " 'roger',\n",
       " 'maynard',\n",
       " 'not',\n",
       " 'agree',\n",
       " 'letter',\n",
       " 'know',\n",
       " 'worried',\n",
       " 'otherwise',\n",
       " 'you',\n",
       " 'would',\n",
       " 'put',\n",
       " 'name',\n",
       " 'bottom',\n",
       " 'simply',\n",
       " 'appended',\n",
       " 'standard',\n",
       " 'disclaimer',\n",
       " 'opinion',\n",
       " 'expressed',\n",
       " 'petition',\n",
       " 'way',\n",
       " 'claim',\n",
       " 'represent',\n",
       " 'view',\n",
       " 'either',\n",
       " 'internet',\n",
       " 'whole',\n",
       " 'you',\n",
       " 'surely',\n",
       " 'seen',\n",
       " 'disclaimer',\n",
       " 'appended',\n",
       " 'posting',\n",
       " 'many',\n",
       " 'work',\n",
       " 'company',\n",
       " 'post',\n",
       " 'net',\n",
       " 'the',\n",
       " 'disclaimer',\n",
       " 'clever',\n",
       " 'though',\n",
       " 'may',\n",
       " 'reason',\n",
       " 'cordially',\n",
       " 'always',\n",
       " 'maynard',\n",
       " 'many',\n",
       " 'moron',\n",
       " 'little',\n",
       " 'time']"
      ]
     },
     "execution_count": 13,
     "metadata": {},
     "output_type": "execute_result"
    }
   ],
   "source": [
    "trainDF.iloc[19994].text"
   ]
  },
  {
   "cell_type": "code",
   "execution_count": null,
   "metadata": {},
   "outputs": [],
   "source": []
  }
 ],
 "metadata": {
  "kernelspec": {
   "display_name": "Python 3",
   "language": "python",
   "name": "python3"
  },
  "language_info": {
   "codemirror_mode": {
    "name": "ipython",
    "version": 3
   },
   "file_extension": ".py",
   "mimetype": "text/x-python",
   "name": "python",
   "nbconvert_exporter": "python",
   "pygments_lexer": "ipython3",
   "version": "3.8.5"
  }
 },
 "nbformat": 4,
 "nbformat_minor": 4
}
